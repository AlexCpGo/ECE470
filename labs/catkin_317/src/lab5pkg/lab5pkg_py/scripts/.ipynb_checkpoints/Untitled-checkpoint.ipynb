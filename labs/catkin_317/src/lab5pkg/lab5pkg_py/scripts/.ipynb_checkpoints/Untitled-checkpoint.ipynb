{
 "cells": [
  {
   "cell_type": "code",
   "execution_count": 2,
   "metadata": {},
   "outputs": [],
   "source": [
    "import math\n",
    "import cv2\n",
    "import numpy as np\n",
    "import os\n",
    "import math"
   ]
  },
  {
   "cell_type": "code",
   "execution_count": 5,
   "metadata": {},
   "outputs": [],
   "source": [
    "##############################################################################\n",
    "        # template preprocess \n",
    "_img = cv2.imread('example.jpg')\n",
    "_draw_img = _img.copy()\n",
    "\n",
    "        # Bilateral Filter smoothes images while preserving edges,\n",
    "        # by means of a nonlinear combination of nearby image values.\n",
    "        # cv2.bilateralFilter(src, d, sigmaColor, sigmaSpace)\n",
    "        # d - Diameter of each pixel neighborhood that is used during filtering.\n",
    "_blur = cv2.bilateralFilter(_img, 19, 130, 30)\n",
    "_blur = cv2.medianBlur(_blur, 9)\n",
    "\n",
    "_img_gray = cv2.cvtColor(_blur, cv2.COLOR_BGR2GRAY)\n",
    "_xgrd = cv2.Sobel(_img_gray, cv2.CV_16SC1, 1, 0)\n",
    "_ygrd = cv2.Sobel(_img_gray, cv2.CV_16SC1, 0, 1)\n",
    "_img = cv2.Canny(_xgrd, _ygrd, 30, 220)\n",
    "\n",
    "        # Here we obtain the edge, then show using code below\n",
    "        # cv2.imshow('1', img)\n",
    "        # cv2.waitKey()\n",
    "        # cv2.destroyAllWindows()\n",
    "        \n",
    "_w, _h = _img.shape\n",
    "_img_1 = _img[:, :_w]\n",
    "_img_2 = _img[:, _w:]\n",
    "\n",
    "        # cv2.findContours to find contour\n",
    "        # variable _contours_1 stores all contours, each of which is composed of\n",
    "        # a series of pixel point \n",
    "        # For example: len(contours) contours[0] \n",
    "        # rectangle\n",
    "_contours_1, hierarchy = cv2.findContours(_img_1, cv2.RETR_TREE, cv2.CHAIN_APPROX_SIMPLE)\n",
    "        # circle\n",
    "_contours_2, hierarchy = cv2.findContours(_img_2, cv2.RETR_TREE, cv2.CHAIN_APPROX_SIMPLE)\n",
    "##############################################################################"
   ]
  },
  {
   "cell_type": "code",
   "execution_count": 131,
   "metadata": {},
   "outputs": [],
   "source": [
    "_img = cv2.imread('_lab5.bmp')\n",
    "_draw_img = _img.copy()\n",
    "#cv2.imshow('_img', _img)\n",
    "\n",
    "_blur = cv2.bilateralFilter(_img, 19, 130, 30)\n",
    "_blur = cv2.medianBlur(_blur, 9)\n",
    "#cv2.imshow('_blur', _blur)\n",
    "\n",
    "\n",
    "_img_gray = cv2.cvtColor(_blur, cv2.COLOR_BGR2GRAY)\n",
    "_xgrd = cv2.Sobel(_img_gray, cv2.CV_16SC1, 1, 0)\n",
    "_ygrd = cv2.Sobel(_img_gray, cv2.CV_16SC1, 0, 1)\n",
    "_img = cv2.Canny(_xgrd, _ygrd, 30, 180)\n",
    "#cv2.imshow('_Canny', _img)\n",
    "\n",
    "contours, hierarchy = cv2.findContours(_img, cv2.RETR_TREE, cv2.CHAIN_APPROX_SIMPLE)\n",
    "#_draw_img=cv2.drawContours(_draw_img,contours,-1,(0,255,0),3)\n",
    "\n",
    "\n",
    "center_value = []\n",
    "tip_value = []\n",
    "shape = [] # 0 represents rectangle while 1 represents circle or ellipse\n",
    "theta = []\n",
    "for i in range(len(contours) // 2):\n",
    "    if i % 2 == 0: #is contour of the base\n",
    "        N = cv2.moments(contours[i * 2])\n",
    "        _center_x = int(N[\"m10\"] / N[\"m00\"])\n",
    "        _center_y = int(N[\"m01\"] / N[\"m00\"])\n",
    "        _draw_img=cv2.circle(_draw_img, (int(_center_x), int(_center_y)), 7, [255,0,0], -1) #center, blu\n",
    "        center_value.append([_center_x,_center_y])\n",
    "       \n",
    "        rect = cv2.matchShapes(contours[i * 2], _contours_1[0], 1, 0.0)\n",
    "        circ = cv2.matchShapes(contours[i * 2], _contours_2[0], 1, 0.0) \n",
    "        if rect > circ:\n",
    "            shape.append(1) #is circle, GREEN\n",
    "            ######\n",
    "            _draw_img = cv2.drawContours(_draw_img,contours[i * 2],-1,(0,255,0),3) #is circle, GREEN\n",
    "        else:\n",
    "            shape.append(0)#is rect, RED\n",
    "            ######\n",
    "            _draw_img = cv2.drawContours(_draw_img,contours[i * 2],-1,(0,0,255),3)#is rect, RED\n",
    "    else:  #is contour of the arrow\n",
    "        arrow = contours[i * 2]\n",
    "        block = contours[i * 2 -2]\n",
    "        distprev=1000000\n",
    "        for pointsInArrow in arrow:\n",
    "            for pointsInBlock in block:\n",
    "                dist = np.linalg.norm(pointsInArrow - pointsInBlock)\n",
    "                if dist < distprev:\n",
    "                    distprev = dist\n",
    "                    arrowClosest = pointsInArrow\n",
    "        ######\n",
    "        _draw_img=cv2.circle(_draw_img, (arrowClosest[0][0],arrowClosest[0][1]), 7, [255,255,255], -1)# IS tip, white\n",
    "        tip_value.append([arrowClosest[0][0],arrowClosest[0][1]]) \n",
    "for i in range(len(center_value)):\n",
    "    angle = -math.atan2(tip_value[i][1]-center_value[i][1],tip_value[i][0]-center_value[i][0])/3.1415*180\n",
    "    theta.append(angle)\n",
    "    ######\n",
    "    _draw_img = cv2.putText(_draw_img,str(int(angle)),(center_value[i][0],center_value[i][1]),cv2.FONT_HERSHEY_PLAIN, 2,(255,255,255),3)"
   ]
  },
  {
   "cell_type": "code",
   "execution_count": 128,
   "metadata": {},
   "outputs": [],
   "source": []
  },
  {
   "cell_type": "code",
   "execution_count": 122,
   "metadata": {},
   "outputs": [
    {
     "name": "stdout",
     "output_type": "stream",
     "text": [
      "45.001327204055606\n"
     ]
    }
   ],
   "source": [
    "print(math.atan2(2,2)/3.1415*180)"
   ]
  },
  {
   "cell_type": "code",
   "execution_count": 132,
   "metadata": {},
   "outputs": [],
   "source": [
    "cv2.imshow('_draw_img', _draw_img)\n",
    "cv2.waitKey()\n",
    "cv2.destroyAllWindows()"
   ]
  }
 ],
 "metadata": {
  "kernelspec": {
   "display_name": "Python 3",
   "language": "python",
   "name": "python3"
  },
  "language_info": {
   "codemirror_mode": {
    "name": "ipython",
    "version": 3
   },
   "file_extension": ".py",
   "mimetype": "text/x-python",
   "name": "python",
   "nbconvert_exporter": "python",
   "pygments_lexer": "ipython3",
   "version": "3.8.3"
  }
 },
 "nbformat": 4,
 "nbformat_minor": 4
}
